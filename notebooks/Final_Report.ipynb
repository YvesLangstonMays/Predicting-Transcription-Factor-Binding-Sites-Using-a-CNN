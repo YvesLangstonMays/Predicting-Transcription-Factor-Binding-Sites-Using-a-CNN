{
  "cells": [
    {
      "cell_type": "markdown",
      "id": "bde76faa-90c9-420d-a7c7-429a2436a91b",
      "metadata": {},
      "source": [
        "# Predicting Transcription Factor Binding Sites in Eukaryotic DNA Using a 1-dimensional CNN\n",
        "\n"
      ]
    },
    {
      "cell_type": "markdown",
      "id": "54034450-7af4-4ea5-9339-44c70cf423f3",
      "metadata": {},
      "source": [
        "## Main Approach\n",
        "\n",
        "..."
      ]
    },
    {
      "cell_type": "markdown",
      "id": "ca7482a1-9dec-4be0-b22d-fbac266acd58",
      "metadata": {},
      "source": [
        "## Introduction\n",
        "\n",
        "Gene regulation is controlled by transcription factors that bind to specific sequences in DNA. The purpose of identifying these transcription factor binding sites (TFBS) is important for understanding disease mechanisms, developing gene therapies, as well as identifying gene mutations. Traditionally techniques such as ChIP-Sequencing are used to identify binding sites of proteins to DNA. However, this technique is very expensive and not time efficient. Through the use of Machine learning we can predict the TFBS from DNA sequences saving time and effort while providing useful insight to scientist and medical researchers. Our approach was to use a 1 dimensional CNN to determine whether a 200 bp DNA sequence contains a binding site for a single transcription factor.\n",
        "\n"
      ]
    },
    {
      "cell_type": "markdown",
      "id": "3b1cc796-2166-472a-b0ef-7ea32ed5bef7",
      "metadata": {},
      "source": [
        "## Literature Review\n",
        "..."
      ]
    },
    {
      "cell_type": "markdown",
      "id": "10d650e3-63e9-4742-83b3-e6a310e56c8f",
      "metadata": {},
      "source": [
        "## Dataset\n",
        "..."
      ]
    },
    {
      "cell_type": "markdown",
      "id": "5653c908-546e-4030-977d-13773e281557",
      "metadata": {},
      "source": [
        "## Baseline\n",
        "..."
      ]
    },
    {
      "cell_type": "markdown",
      "id": "9193515a-4507-4d9a-848e-e28959c6af51",
      "metadata": {},
      "source": [
        "## Evaluation Metrics\n",
        "\n",
        "..."
      ]
    },
    {
      "cell_type": "markdown",
      "id": "e9f75e4c-aea3-4a54-ad69-e4cff2580386",
      "metadata": {},
      "source": [
        "## Results & Analysis\n",
        "\n",
        "..."
      ]
    },
    {
      "cell_type": "markdown",
      "id": "8e160cf2-e7e1-41d9-b3c7-c549f76eaa95",
      "metadata": {},
      "source": [
        "## Future Work\n",
        "\n",
        "..."
      ]
    },
    {
      "cell_type": "markdown",
      "id": "d29a3272-23c5-43bd-9ddc-97a783691525",
      "metadata": {},
      "source": [
        "## References\n",
        "..."
      ]
    },
    {
      "cell_type": "code",
      "execution_count": null,
      "id": "c63a15c7-d8da-4c36-9ee4-f5a571e7808a",
      "metadata": {
        "trusted": true
      },
      "outputs": [],
      "source": []
    }
  ],
  "metadata": {
    "kernelspec": {
      "display_name": "Python (Pyodide)",
      "language": "python",
      "name": "python"
    },
    "language_info": {
      "codemirror_mode": {
        "name": "python",
        "version": 3
      },
      "file_extension": ".py",
      "mimetype": "text/x-python",
      "name": "python",
      "nbconvert_exporter": "python",
      "pygments_lexer": "ipython3",
      "version": "3.8"
    }
  },
  "nbformat": 4,
  "nbformat_minor": 5
}
